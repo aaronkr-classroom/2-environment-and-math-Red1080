{
 "cells": [
  {
   "cell_type": "markdown",
   "id": "cef628d8",
   "metadata": {},
   "source": [
    "# Markdown\n",
    "\n",
    "Write your own MD content from slide 49.\n"
   ]
  },
  {
   "cell_type": "code",
   "execution_count": null,
   "id": "a712fc23",
   "metadata": {
    "vscode": {
     "languageId": "plaintext"
    }
   },
   "outputs": [],
   "source": [
    "# 1. Hello python\n",
    "name = \"Red\"\n",
    "goals = ['learn Ml','learn DL','deeply learn DL']\n",
    "\n",
    "print(\"Hello,\",name, \"!\")\n",
    "print(\"Hello, \" + name + \"!\")\n",
    "\n",
    "# for(1 starting point; 2 end condition; 4 increment;) {\n",
    "   #executing code; \n",
    "# }\n",
    "for g in goals:\n",
    "    print(\"-\", g)\n",
    "\n",
    "#if - elif - else\n",
    "if \"learn ML\" in goals:\n",
    "    print(Lest's learn ML!\")\n"
   ]
  },
  {
   "cell_type": "code",
   "execution_count": null,
   "id": "803155e0",
   "metadata": {
    "vscode": {
     "languageId": "plaintext"
    }
   },
   "outputs": [],
   "source": []
  },
  {
   "cell_type": "markdown",
   "id": "0a3b783c",
   "metadata": {},
   "source": []
  }
 ],
 "metadata": {
  "language_info": {
   "name": "python"
  }
 },
 "nbformat": 4,
 "nbformat_minor": 5
}
